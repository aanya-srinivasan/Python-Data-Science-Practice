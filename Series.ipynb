{
 "cells": [
  {
   "cell_type": "code",
   "execution_count": 1,
   "id": "3e016e8a-3e42-4df9-b073-2af1b64477f9",
   "metadata": {},
   "outputs": [],
   "source": [
    "import numpy as np"
   ]
  },
  {
   "cell_type": "code",
   "execution_count": 3,
   "id": "54d7e538-56e7-43f6-81fe-38ac5d109c11",
   "metadata": {},
   "outputs": [],
   "source": [
    "import pandas as pd"
   ]
  },
  {
   "cell_type": "code",
   "execution_count": 5,
   "id": "ba88f153-14c1-494f-bece-5a7a26157271",
   "metadata": {},
   "outputs": [],
   "source": [
    "list = ['a', 'b', 'c', 'd']\n",
    "my_list = [3,4,5,6]\n",
    "arr = np.array(my_list)\n",
    "dict = {'a': 3, 'b': 4, 'c': 5, 'd': 6}"
   ]
  },
  {
   "cell_type": "code",
   "execution_count": 12,
   "id": "1305b1a7-b033-4898-b1f1-f73faf21a745",
   "metadata": {},
   "outputs": [
    {
     "data": {
      "text/plain": [
       "a    3\n",
       "b    4\n",
       "c    5\n",
       "d    6\n",
       "dtype: int32"
      ]
     },
     "execution_count": 12,
     "metadata": {},
     "output_type": "execute_result"
    }
   ],
   "source": [
    "pd.Series(data = arr, index = list)"
   ]
  },
  {
   "cell_type": "code",
   "execution_count": 18,
   "id": "023ebe3d-7a05-4f84-b096-98ec478b95fc",
   "metadata": {},
   "outputs": [],
   "source": [
    "x = pd.Series(dict)"
   ]
  },
  {
   "cell_type": "code",
   "execution_count": 16,
   "id": "39f2830f-902c-4560-bc96-8dd84b547fb4",
   "metadata": {},
   "outputs": [
    {
     "data": {
      "text/plain": [
       "3    a\n",
       "4    b\n",
       "5    c\n",
       "6    d\n",
       "dtype: object"
      ]
     },
     "execution_count": 16,
     "metadata": {},
     "output_type": "execute_result"
    }
   ],
   "source": [
    "pd.Series(list, arr)"
   ]
  },
  {
   "cell_type": "code",
   "execution_count": 20,
   "id": "91d2b953-ff7d-483a-90f8-505325721197",
   "metadata": {},
   "outputs": [
    {
     "data": {
      "text/plain": [
       "a    3\n",
       "b    4\n",
       "c    5\n",
       "d    6\n",
       "dtype: int64"
      ]
     },
     "execution_count": 20,
     "metadata": {},
     "output_type": "execute_result"
    }
   ],
   "source": [
    "x"
   ]
  },
  {
   "cell_type": "code",
   "execution_count": 22,
   "id": "b265bdb6-0ad1-4eb9-9a09-50c708e98fbf",
   "metadata": {},
   "outputs": [
    {
     "data": {
      "text/plain": [
       "3"
      ]
     },
     "execution_count": 22,
     "metadata": {},
     "output_type": "execute_result"
    }
   ],
   "source": [
    "x['a']"
   ]
  },
  {
   "cell_type": "code",
   "execution_count": 28,
   "id": "669e73d6-49f6-4c2e-8748-b4f1098cee83",
   "metadata": {},
   "outputs": [],
   "source": [
    "y = pd.Series([1,2,3,4], ['a','b','c','d']) #can take in any type of value"
   ]
  },
  {
   "cell_type": "code",
   "execution_count": 30,
   "id": "ab74a001-384c-4fef-8aa9-ddae0d015e5d",
   "metadata": {},
   "outputs": [
    {
     "data": {
      "text/plain": [
       "a     4\n",
       "b     6\n",
       "c     8\n",
       "d    10\n",
       "dtype: int64"
      ]
     },
     "execution_count": 30,
     "metadata": {},
     "output_type": "execute_result"
    }
   ],
   "source": [
    "x + y #if the index does not match, they become separate and take the null value"
   ]
  },
  {
   "cell_type": "code",
   "execution_count": null,
   "id": "28ffba6b-70d6-4c4a-a113-15c57a09d659",
   "metadata": {},
   "outputs": [],
   "source": []
  }
 ],
 "metadata": {
  "kernelspec": {
   "display_name": "Python 3 (ipykernel)",
   "language": "python",
   "name": "python3"
  },
  "language_info": {
   "codemirror_mode": {
    "name": "ipython",
    "version": 3
   },
   "file_extension": ".py",
   "mimetype": "text/x-python",
   "name": "python",
   "nbconvert_exporter": "python",
   "pygments_lexer": "ipython3",
   "version": "3.12.4"
  }
 },
 "nbformat": 4,
 "nbformat_minor": 5
}
